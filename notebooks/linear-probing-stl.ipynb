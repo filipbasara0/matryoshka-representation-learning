{
 "cells": [
  {
   "cell_type": "code",
   "execution_count": 2,
   "id": "1d05ceca",
   "metadata": {
    "scrolled": true
   },
   "outputs": [
    {
     "name": "stderr",
     "output_type": "stream",
     "text": [
      "/usr/lib/python3/dist-packages/requests/__init__.py:89: RequestsDependencyWarning: urllib3 (2.1.0) or chardet (3.0.4) doesn't match a supported version!\n",
      "  warnings.warn(\"urllib3 ({}) or chardet ({}) doesn't match a supported \"\n",
      "/home/wavelet/.local/lib/python3.10/site-packages/tqdm/auto.py:21: TqdmWarning: IProgress not found. Please update jupyter and ipywidgets. See https://ipywidgets.readthedocs.io/en/stable/user_install.html\n",
      "  from .autonotebook import tqdm as notebook_tqdm\n"
     ]
    }
   ],
   "source": [
    "import sys\n",
    "sys.path.append(\"../\")\n",
    "\n",
    "import torch\n",
    "import torchvision\n",
    "from torch.utils.data import DataLoader\n",
    "\n",
    "from mrl.encoders import resnet18, resnet50\n",
    "from mrl.aug import get_inference_transforms\n",
    "\n",
    "import warnings\n",
    "\n",
    "warnings.filterwarnings(\"ignore\")"
   ]
  },
  {
   "cell_type": "code",
   "execution_count": 3,
   "id": "ea87b9e4",
   "metadata": {},
   "outputs": [],
   "source": [
    "device = torch.device(\"cuda\" if torch.cuda.is_available() else \"cpu\")"
   ]
  },
  {
   "cell_type": "code",
   "execution_count": 4,
   "id": "ec7dccba",
   "metadata": {},
   "outputs": [
    {
     "name": "stdout",
     "output_type": "stream",
     "text": [
      "Files already downloaded and verified\n",
      "Files already downloaded and verified\n"
     ]
    }
   ],
   "source": [
    "# IMAGE_SIZE = 192\n",
    "IMAGE_SIZE = 96\n",
    "transform = get_inference_transforms(image_size=(IMAGE_SIZE, IMAGE_SIZE))\n",
    "\n",
    "train_ds = torchvision.datasets.STL10(\"../data/\",\n",
    "                                  split='train',\n",
    "                                  transform=transform,\n",
    "                                  download=True)\n",
    "val_ds = torchvision.datasets.STL10(\"../data\",\n",
    "                                  split='test',\n",
    "                                  transform=transform,\n",
    "                                  download=True)\n",
    "\n",
    "train_loader = DataLoader(train_ds,\n",
    "                          batch_size=256,\n",
    "                          num_workers=4)\n",
    "val_loader = DataLoader(val_ds,\n",
    "                       batch_size=256,\n",
    "                       num_workers=4)"
   ]
  },
  {
   "cell_type": "code",
   "execution_count": 5,
   "id": "a900a33e",
   "metadata": {},
   "outputs": [
    {
     "data": {
      "text/plain": [
       "(5000, 8000)"
      ]
     },
     "execution_count": 5,
     "metadata": {},
     "output_type": "execute_result"
    }
   ],
   "source": [
    "len(train_ds), len(val_ds)"
   ]
  },
  {
   "cell_type": "code",
   "execution_count": 6,
   "id": "a402d632",
   "metadata": {
    "scrolled": true
   },
   "outputs": [],
   "source": [
    "# ckpt = torch.load(\"../models/encoder.pth\")\n",
    "ckpt = torch.load(\"../models/encoder_resnet18_stl10_152k.pth\")\n",
    "\n",
    "model = resnet18()\n",
    "# model = resnet50()\n",
    "model.load_state_dict(ckpt)\n",
    "\n",
    "model = model.eval().to(device)"
   ]
  },
  {
   "cell_type": "code",
   "execution_count": 7,
   "id": "cda08697",
   "metadata": {
    "scrolled": true
   },
   "outputs": [],
   "source": [
    "from tqdm.auto import tqdm\n",
    "import numpy as np\n",
    "\n",
    "def get_embs_labels(dl, feature_dim, verbose):\n",
    "    idx = 0\n",
    "    embs, labels = [], []\n",
    "    data = tqdm(dl) if verbose else dl\n",
    "    for idx, (images, targets) in enumerate(data):\n",
    "        with torch.no_grad():\n",
    "            images = images.to(device)\n",
    "            out = model(images)\n",
    "            features = out.cpu().detach()\n",
    "            features = features[:, :feature_dim]\n",
    "            embs.extend(features.tolist())\n",
    "            labels.extend(targets.cpu().detach().tolist())\n",
    "    return np.array(embs), np.array(labels)"
   ]
  },
  {
   "cell_type": "code",
   "execution_count": 8,
   "id": "24bbb94c",
   "metadata": {},
   "outputs": [],
   "source": [
    "from sklearn.calibration import CalibratedClassifierCV\n",
    "from sklearn.linear_model import LogisticRegression\n",
    "from sklearn.metrics import accuracy_score, confusion_matrix, classification_report\n",
    "\n",
    "\n",
    "def logistic_regression(feature_dim, verbose=False):\n",
    "    embeddings, labels = get_embs_labels(train_loader, feature_dim, verbose)\n",
    "    embeddings_val, labels_val = get_embs_labels(val_loader, feature_dim, verbose)\n",
    "    \n",
    "    X_train, X_test = embeddings, embeddings_val\n",
    "    y_train, y_test = labels, labels_val\n",
    "\n",
    "    if verbose:\n",
    "        print(\"train\", X_train.shape[0], len(y_train))\n",
    "        print(\"test\", X_test.shape[0], len(y_test))\n",
    "        print(embeddings.shape)\n",
    "        print(labels.shape)\n",
    "        print(embeddings_val.shape)\n",
    "        print(labels_val.shape)\n",
    "    \n",
    "    clf = LogisticRegression(max_iter=100)\n",
    "    clf = CalibratedClassifierCV(clf)\n",
    "    \n",
    "    clf.fit(X_train, y_train)\n",
    "    \n",
    "    y_pred = clf.predict(X_test)\n",
    "    \n",
    "    acc = accuracy_score(y_test, y_pred)\n",
    "    conf_matrix = confusion_matrix(y_test, y_pred)\n",
    "    class_report = classification_report(y_test, y_pred)\n",
    "    \n",
    "\n",
    "    print(f\"Accuracy ({feature_dim}): \", acc)\n",
    "    \n",
    "    if verbose:\n",
    "        print(\"Confusion matrix: \\n\", conf_matrix)\n",
    "        print(\"Classification report: \\n\", class_report)\n",
    "        \n",
    "        y_pred_train = clf.predict(X_train)\n",
    "        class_report = classification_report(y_train, y_pred_train)\n",
    "        print(\"Classification report train: \\n\", class_report)\n",
    "\n",
    "    return acc"
   ]
  },
  {
   "cell_type": "code",
   "execution_count": 9,
   "id": "ae0c1509",
   "metadata": {},
   "outputs": [
    {
     "name": "stderr",
     "output_type": "stream",
     "text": [
      "100%|██████████| 20/20 [00:00<00:00, 30.03it/s]\n",
      "100%|██████████| 32/32 [00:00<00:00, 45.99it/s]\n"
     ]
    },
    {
     "name": "stdout",
     "output_type": "stream",
     "text": [
      "train 5000 5000\n",
      "test 8000 8000\n",
      "(5000, 64)\n",
      "(5000,)\n",
      "(8000, 64)\n",
      "(8000,)\n",
      "Accuracy (64):  0.804\n",
      "Confusion matrix: \n",
      " [[745  23   3   4   1   1   1   0  16   6]\n",
      " [ 25 615   0  64   4  20   6  65   1   0]\n",
      " [  4   1 730   4   1   1   1   0   4  54]\n",
      " [  0  70   0 560  24  75   2  69   0   0]\n",
      " [  0  30   0  69 602  27  36  35   0   1]\n",
      " [  1  20   1 151  22 455  38 110   2   0]\n",
      " [  2   9   0  17  33  62 641  33   0   3]\n",
      " [  0  54   0  87  17  29   6 607   0   0]\n",
      " [ 17   0   1   4   0   0   0   0 769   9]\n",
      " [ 19   3  21   4   1   2   3   0  39 708]]\n",
      "Classification report: \n",
      "               precision    recall  f1-score   support\n",
      "\n",
      "           0       0.92      0.93      0.92       800\n",
      "           1       0.75      0.77      0.76       800\n",
      "           2       0.97      0.91      0.94       800\n",
      "           3       0.58      0.70      0.63       800\n",
      "           4       0.85      0.75      0.80       800\n",
      "           5       0.68      0.57      0.62       800\n",
      "           6       0.87      0.80      0.84       800\n",
      "           7       0.66      0.76      0.71       800\n",
      "           8       0.93      0.96      0.94       800\n",
      "           9       0.91      0.89      0.90       800\n",
      "\n",
      "    accuracy                           0.80      8000\n",
      "   macro avg       0.81      0.80      0.81      8000\n",
      "weighted avg       0.81      0.80      0.81      8000\n",
      "\n",
      "Classification report train: \n",
      "               precision    recall  f1-score   support\n",
      "\n",
      "           0       0.92      0.96      0.94       500\n",
      "           1       0.80      0.82      0.81       500\n",
      "           2       0.98      0.94      0.96       500\n",
      "           3       0.61      0.72      0.66       500\n",
      "           4       0.85      0.77      0.81       500\n",
      "           5       0.71      0.61      0.66       500\n",
      "           6       0.90      0.81      0.85       500\n",
      "           7       0.71      0.81      0.76       500\n",
      "           8       0.94      0.96      0.95       500\n",
      "           9       0.93      0.91      0.92       500\n",
      "\n",
      "    accuracy                           0.83      5000\n",
      "   macro avg       0.84      0.83      0.83      5000\n",
      "weighted avg       0.84      0.83      0.83      5000\n",
      "\n"
     ]
    },
    {
     "data": {
      "text/plain": [
       "0.804"
      ]
     },
     "execution_count": 9,
     "metadata": {},
     "output_type": "execute_result"
    }
   ],
   "source": [
    "logistic_regression(64, True)"
   ]
  },
  {
   "cell_type": "code",
   "execution_count": 10,
   "id": "05161567",
   "metadata": {},
   "outputs": [
    {
     "name": "stdout",
     "output_type": "stream",
     "text": [
      "Accuracy (8):  0.671125\n",
      "Accuracy (16):  0.76075\n",
      "Accuracy (32):  0.79225\n",
      "Accuracy (64):  0.804\n",
      "Accuracy (128):  0.810625\n",
      "Accuracy (256):  0.812375\n",
      "Accuracy (512):  0.8155\n"
     ]
    }
   ],
   "source": [
    "import math\n",
    "\n",
    "FEATURE_DIM = 512\n",
    "\n",
    "nesting_dims = [2**i for i in range(3, int(math.log2(FEATURE_DIM)) + 1)]\n",
    "accs = []\n",
    "for dim in nesting_dims:\n",
    "    accs.append(logistic_regression(dim))"
   ]
  },
  {
   "cell_type": "code",
   "execution_count": 11,
   "id": "c8b27bf3",
   "metadata": {},
   "outputs": [
    {
     "data": {
      "image/png": "[encoded data removed]",
      "text/plain": [
       "<Figure size 1000x600 with 1 Axes>"
      ]
     },
     "metadata": {},
     "output_type": "display_data"
    }
   ],
   "source": [
    "import matplotlib.pyplot as plt\n",
    "\n",
    "plt.figure(figsize=(10, 6))\n",
    "plt.plot(nesting_dims, accs, marker='o', linestyle='-', color='b')\n",
    "\n",
    "plt.title('Model Performance vs Dimension STL10')\n",
    "plt.xlabel('Nesting dimension')\n",
    "plt.ylabel('Accuracy')\n",
    "\n",
    "plt.xscale('log')\n",
    "plt.xticks(nesting_dims, labels=[str(dim) for dim in nesting_dims])\n",
    "plt.grid(True) \n",
    "\n",
    "plt.show()\n"
   ]
  },
  {
   "cell_type": "code",
   "execution_count": null,
   "id": "5d3c0a2f",
   "metadata": {},
   "outputs": [],
   "source": []
  }
 ],
 "metadata": {
  "kernelspec": {
   "display_name": "Python 3 (ipykernel)",
   "language": "python",
   "name": "python3"
  },
  "language_info": {
   "codemirror_mode": {
    "name": "ipython",
    "version": 3
   },
   "file_extension": ".py",
   "mimetype": "text/x-python",
   "name": "python",
   "nbconvert_exporter": "python",
   "pygments_lexer": "ipython3",
   "version": "3.10.13"
  }
 },
 "nbformat": 4,
 "nbformat_minor": 5
}
