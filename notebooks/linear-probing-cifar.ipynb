{
 "cells": [
  {
   "cell_type": "code",
   "execution_count": 1,
   "id": "1d05ceca",
   "metadata": {
    "scrolled": true
   },
   "outputs": [
    {
     "name": "stderr",
     "output_type": "stream",
     "text": [
      "/usr/lib/python3/dist-packages/requests/__init__.py:89: RequestsDependencyWarning: urllib3 (2.1.0) or chardet (3.0.4) doesn't match a supported version!\n",
      "  warnings.warn(\"urllib3 ({}) or chardet ({}) doesn't match a supported \"\n",
      "/home/wavelet/.local/lib/python3.10/site-packages/tqdm/auto.py:21: TqdmWarning: IProgress not found. Please update jupyter and ipywidgets. See https://ipywidgets.readthedocs.io/en/stable/user_install.html\n",
      "  from .autonotebook import tqdm as notebook_tqdm\n"
     ]
    }
   ],
   "source": [
    "import sys\n",
    "sys.path.append(\"../\")\n",
    "\n",
    "import torch\n",
    "import torchvision\n",
    "from torch.utils.data import DataLoader\n",
    "\n",
    "from mrl.encoders import resnet18, resnet50\n",
    "from mrl.aug import get_inference_transforms\n",
    "\n",
    "import warnings\n",
    "\n",
    "warnings.filterwarnings(\"ignore\")"
   ]
  },
  {
   "cell_type": "code",
   "execution_count": 2,
   "id": "ea87b9e4",
   "metadata": {},
   "outputs": [],
   "source": [
    "device = torch.device(\"cuda\" if torch.cuda.is_available() else \"cpu\")"
   ]
  },
  {
   "cell_type": "code",
   "execution_count": 4,
   "id": "ec7dccba",
   "metadata": {},
   "outputs": [
    {
     "name": "stdout",
     "output_type": "stream",
     "text": [
      "Files already downloaded and verified\n",
      "Files already downloaded and verified\n"
     ]
    }
   ],
   "source": [
    "IMAGE_SIZE = 32\n",
    "\n",
    "transform = get_inference_transforms(image_size=(IMAGE_SIZE, IMAGE_SIZE))\n",
    "train_ds = torchvision.datasets.CIFAR10(\"../data/cifar\",\n",
    "                                  train=True,\n",
    "                                  transform=transform,\n",
    "                                  download=True)\n",
    "val_ds = torchvision.datasets.CIFAR10(\"../data/cifar\",\n",
    "                                  train=False,\n",
    "                                  transform=transform,\n",
    "                                  download=True)\n",
    "\n",
    "train_loader = DataLoader(train_ds,\n",
    "                          batch_size=256,\n",
    "                          num_workers=4)\n",
    "val_loader = DataLoader(val_ds,\n",
    "                       batch_size=256,\n",
    "                       num_workers=4)"
   ]
  },
  {
   "cell_type": "code",
   "execution_count": 5,
   "id": "a900a33e",
   "metadata": {},
   "outputs": [
    {
     "data": {
      "text/plain": [
       "(50000, 10000)"
      ]
     },
     "execution_count": 5,
     "metadata": {},
     "output_type": "execute_result"
    }
   ],
   "source": [
    "len(train_ds), len(val_ds)"
   ]
  },
  {
   "cell_type": "code",
   "execution_count": 6,
   "id": "a402d632",
   "metadata": {
    "scrolled": true
   },
   "outputs": [],
   "source": [
    "ckpt = torch.load(\"../models/encoder_resnet18_cifar10_80k.pth\")\n",
    "\n",
    "# model = resnet50()\n",
    "model = resnet18(modify_model=True)\n",
    "model.load_state_dict(ckpt)\n",
    "\n",
    "model = model.eval().to(device)"
   ]
  },
  {
   "cell_type": "code",
   "execution_count": 7,
   "id": "cda08697",
   "metadata": {
    "scrolled": true
   },
   "outputs": [],
   "source": [
    "from tqdm.auto import tqdm\n",
    "import numpy as np\n",
    "\n",
    "def get_embs_labels(dl, feature_dim, verbose):\n",
    "    idx = 0\n",
    "    embs, labels = [], []\n",
    "    data = tqdm(dl) if verbose else dl\n",
    "    for idx, (images, targets) in enumerate(data):\n",
    "        with torch.no_grad():\n",
    "            images = images.to(device)\n",
    "            out = model(images)\n",
    "            features = out.cpu().detach()\n",
    "            features = features[:, :feature_dim]\n",
    "            embs.extend(features.tolist())\n",
    "            labels.extend(targets.cpu().detach().tolist())\n",
    "    return np.array(embs), np.array(labels)"
   ]
  },
  {
   "cell_type": "code",
   "execution_count": 8,
   "id": "a5a2e788",
   "metadata": {},
   "outputs": [],
   "source": [
    "from sklearn.calibration import CalibratedClassifierCV\n",
    "from sklearn.linear_model import LogisticRegression\n",
    "from sklearn.metrics import accuracy_score, confusion_matrix, classification_report\n",
    "\n",
    "\n",
    "def logistic_regression(feature_dim, verbose=False):\n",
    "    embeddings, labels = get_embs_labels(train_loader, feature_dim, verbose)\n",
    "    embeddings_val, labels_val = get_embs_labels(val_loader, feature_dim, verbose)\n",
    "    \n",
    "    X_train, X_test = embeddings, embeddings_val\n",
    "    y_train, y_test = labels, labels_val\n",
    "\n",
    "    if verbose:\n",
    "        print(\"train\", X_train.shape[0], len(y_train))\n",
    "        print(\"test\", X_test.shape[0], len(y_test))\n",
    "        print(embeddings.shape)\n",
    "        print(labels.shape)\n",
    "        print(embeddings_val.shape)\n",
    "        print(labels_val.shape)\n",
    "    \n",
    "    clf = LogisticRegression(max_iter=100)\n",
    "    clf = CalibratedClassifierCV(clf)\n",
    "    \n",
    "    clf.fit(X_train, y_train)\n",
    "    \n",
    "    y_pred = clf.predict(X_test)\n",
    "    \n",
    "    acc = accuracy_score(y_test, y_pred)\n",
    "    conf_matrix = confusion_matrix(y_test, y_pred)\n",
    "    class_report = classification_report(y_test, y_pred)\n",
    "    \n",
    "\n",
    "    print(f\"Accuracy ({feature_dim}): \", acc)\n",
    "    \n",
    "    if verbose:\n",
    "        print(\"Confusion matrix: \\n\", conf_matrix)\n",
    "        print(\"Classification report: \\n\", class_report)\n",
    "        \n",
    "        y_pred_train = clf.predict(X_train)\n",
    "        class_report = classification_report(y_train, y_pred_train)\n",
    "        print(\"Classification report train: \\n\", class_report)\n",
    "\n",
    "    return acc"
   ]
  },
  {
   "cell_type": "code",
   "execution_count": 8,
   "id": "d72b94c7",
   "metadata": {},
   "outputs": [
    {
     "name": "stderr",
     "output_type": "stream",
     "text": [
      "100%|██████████| 196/196 [00:02<00:00, 75.69it/s]\n",
      "100%|██████████| 40/40 [00:00<00:00, 63.47it/s]\n"
     ]
    },
    {
     "name": "stdout",
     "output_type": "stream",
     "text": [
      "train 50000 50000\n",
      "test 10000 10000\n",
      "(50000, 64)\n",
      "(50000,)\n",
      "(10000, 64)\n",
      "(10000,)\n",
      "Accuracy (64):  0.8313\n",
      "Confusion matrix: \n",
      " [[884   0  18  30   9   1   3   1  43  11]\n",
      " [  9 933   4   2   0   0   1   0  23  28]\n",
      " [ 48   0 682  91  89  16  59   9   4   2]\n",
      " [  5   1  17 826  37  31  68  11   1   3]\n",
      " [  6   0  18  45 857   9  20  42   3   0]\n",
      " [  2   0  15 402  35 482  30  34   0   0]\n",
      " [  8   0  11  52   7   6 916   0   0   0]\n",
      " [  6   0   4  57  29  10   1 893   0   0]\n",
      " [ 21   2   3  17   1   2   2   0 946   6]\n",
      " [ 16  40   0  12   0   0   1   1  36 894]]\n",
      "Classification report: \n",
      "               precision    recall  f1-score   support\n",
      "\n",
      "           0       0.88      0.88      0.88      1000\n",
      "           1       0.96      0.93      0.94      1000\n",
      "           2       0.88      0.68      0.77      1000\n",
      "           3       0.54      0.83      0.65      1000\n",
      "           4       0.81      0.86      0.83      1000\n",
      "           5       0.87      0.48      0.62      1000\n",
      "           6       0.83      0.92      0.87      1000\n",
      "           7       0.90      0.89      0.90      1000\n",
      "           8       0.90      0.95      0.92      1000\n",
      "           9       0.95      0.89      0.92      1000\n",
      "\n",
      "    accuracy                           0.83     10000\n",
      "   macro avg       0.85      0.83      0.83     10000\n",
      "weighted avg       0.85      0.83      0.83     10000\n",
      "\n",
      "Classification report train: \n",
      "               precision    recall  f1-score   support\n",
      "\n",
      "           0       0.89      0.90      0.90      5000\n",
      "           1       0.97      0.93      0.95      5000\n",
      "           2       0.89      0.72      0.80      5000\n",
      "           3       0.55      0.84      0.67      5000\n",
      "           4       0.83      0.85      0.84      5000\n",
      "           5       0.88      0.49      0.63      5000\n",
      "           6       0.84      0.92      0.88      5000\n",
      "           7       0.89      0.90      0.89      5000\n",
      "           8       0.91      0.97      0.94      5000\n",
      "           9       0.96      0.91      0.93      5000\n",
      "\n",
      "    accuracy                           0.84     50000\n",
      "   macro avg       0.86      0.84      0.84     50000\n",
      "weighted avg       0.86      0.84      0.84     50000\n",
      "\n"
     ]
    },
    {
     "data": {
      "text/plain": [
       "0.8313"
      ]
     },
     "execution_count": 8,
     "metadata": {},
     "output_type": "execute_result"
    }
   ],
   "source": [
    "logistic_regression(64, True)"
   ]
  },
  {
   "cell_type": "code",
   "execution_count": 9,
   "id": "2b157c7c",
   "metadata": {},
   "outputs": [
    {
     "name": "stdout",
     "output_type": "stream",
     "text": [
      "Accuracy (8):  0.727\n",
      "Accuracy (16):  0.781\n",
      "Accuracy (32):  0.8238\n",
      "Accuracy (64):  0.8313\n",
      "Accuracy (128):  0.8332\n",
      "Accuracy (256):  0.8422\n",
      "Accuracy (512):  0.8419\n"
     ]
    }
   ],
   "source": [
    "import math\n",
    "\n",
    "FEATURE_DIM = 512\n",
    "\n",
    "nesting_dims = [2**i for i in range(3, int(math.log2(FEATURE_DIM)) + 1)]\n",
    "accs = []\n",
    "for dim in nesting_dims:\n",
    "    accs.append(logistic_regression(dim))\n"
   ]
  },
  {
   "cell_type": "code",
   "execution_count": 10,
   "id": "a71b86a2",
   "metadata": {},
   "outputs": [
    {
     "data": {
      "image/png": "[encoded data removed]",
      "text/plain": [
       "<Figure size 1000x600 with 1 Axes>"
      ]
     },
     "metadata": {},
     "output_type": "display_data"
    }
   ],
   "source": [
    "import matplotlib.pyplot as plt\n",
    "\n",
    "plt.figure(figsize=(10, 6))\n",
    "plt.plot(nesting_dims, accs, marker='o', linestyle='-', color='b')\n",
    "\n",
    "plt.title('Model Performance vs Dimension')\n",
    "plt.xlabel('Nesting dimension')\n",
    "plt.ylabel('Accuracy')\n",
    "\n",
    "plt.xscale('log')\n",
    "plt.xticks(nesting_dims, labels=[str(dim) for dim in nesting_dims])\n",
    "plt.grid(True) \n",
    "\n",
    "plt.show()\n"
   ]
  },
  {
   "cell_type": "code",
   "execution_count": null,
   "id": "8a36eea0",
   "metadata": {},
   "outputs": [],
   "source": []
  }
 ],
 "metadata": {
  "kernelspec": {
   "display_name": "Python 3 (ipykernel)",
   "language": "python",
   "name": "python3"
  },
  "language_info": {
   "codemirror_mode": {
    "name": "ipython",
    "version": 3
   },
   "file_extension": ".py",
   "mimetype": "text/x-python",
   "name": "python",
   "nbconvert_exporter": "python",
   "pygments_lexer": "ipython3",
   "version": "3.10.13"
  }
 },
 "nbformat": 4,
 "nbformat_minor": 5
}
